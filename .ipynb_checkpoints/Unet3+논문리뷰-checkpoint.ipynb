{
 "cells": [
  {
   "cell_type": "markdown",
   "id": "6ee41e1b-9020-4828-a2c7-e7617cd58628",
   "metadata": {},
   "source": [
    "# `-` U-Net3+ 논문리뷰"
   ]
  },
  {
   "cell_type": "markdown",
   "id": "7d6d3c0f-4e4c-4640-add7-a25e8dda400b",
   "metadata": {},
   "source": [
    "```\n",
    "개인적으로 느낀 점\n",
    "- \n",
    "- 중국분들 중심으로 만들어진 논문\n",
    "```"
   ]
  },
  {
   "cell_type": "markdown",
   "id": "b811e2e6-f772-465a-b47d-73fb1790b1c4",
   "metadata": {},
   "source": [
    "we propose a novel UNet 3+, which takes <br>\n",
    "advantage of full-scale skip connections and deep supervisions.\n",
    "> Unet3+ 는 (기존에 비해) 스킵커넥션(풀스케일)과 deep supervision* 에서 이점이 있다.\n",
    "\n",
    "<br>\n",
    "`-` deep supervision* : (중간 레이어의 출력에도 직접적으로 손실(오차)를 계산하여 이를 최소화하는 방식)"
   ]
  },
  {
   "cell_type": "markdown",
   "id": "859ddae0-1d46-4d4e-9ac2-e397e139338b",
   "metadata": {
    "tags": []
   },
   "source": [
    ">"
   ]
  },
  {
   "cell_type": "markdown",
   "id": "929d582e-4f05-4335-b389-4d076bee64d6",
   "metadata": {},
   "source": [
    "full-scale skip connections - 저수준의 세부 사항과 고수준의 의미론적 정보를 통합 <br>\n",
    "deep supervision -계층적인 표현을 학습\n"
   ]
  },
  {
   "cell_type": "code",
   "execution_count": null,
   "id": "920bddf0-6b1b-4499-b16e-ac6e43947443",
   "metadata": {},
   "outputs": [],
   "source": []
  }
 ],
 "metadata": {
  "kernelspec": {
   "display_name": "Python (hf)",
   "language": "python",
   "name": "hf"
  },
  "language_info": {
   "codemirror_mode": {
    "name": "ipython",
    "version": 3
   },
   "file_extension": ".py",
   "mimetype": "text/x-python",
   "name": "python",
   "nbconvert_exporter": "python",
   "pygments_lexer": "ipython3",
   "version": "3.10.13"
  }
 },
 "nbformat": 4,
 "nbformat_minor": 5
}
