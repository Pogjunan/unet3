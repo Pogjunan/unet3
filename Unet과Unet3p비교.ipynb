{
 "cells": [
  {
   "cell_type": "markdown",
   "id": "885ef008-6829-447f-a206-62678b2394ba",
   "metadata": {},
   "source": [
    "# `-` 대회에서의 `Unet` 과 Unet3+ 에서 쓰는 함수를 이어서 사용하기"
   ]
  },
  {
   "cell_type": "markdown",
   "id": "3a21f969-f79c-4aad-8c53-cd1dc9f3dfff",
   "metadata": {},
   "source": [
    "# 1.Imports\n",
    "`-` 변수로써 작용할만한 중요한 것만\n",
    "```\n",
    "import torch\n",
    "import torch.nn as nn\n",
    "import torch.optim as optim\n",
    "import torch.nn.functional as F\n",
    "from torch.utils.data import Dataset, DataLoader\n",
    "```"
   ]
  },
  {
   "cell_type": "markdown",
   "id": "335f5ae1-0357-47e3-96bb-8a356434f68f",
   "metadata": {
    "tags": []
   },
   "source": [
    "# 2. 대회 내에서 Unet 설정\n"
   ]
  },
  {
   "cell_type": "markdown",
   "id": "e6c09767-5aa9-4ef3-b96f-0e511f3d8804",
   "metadata": {},
   "source": [
    "`-` 요약\n",
    "- ConvBlock(인풋채널,아웃풋채널,커널3) 받아서 conv -> 배치노말 -> relu 진행 \n",
    "- DeconvBlock(인풋채널,미드채널,아웃풋채널) 받아서 Upsampling 및 conv -> 배치노말 -> relu -> skip connection -> convblock 진행\n",
    "- Unet 모델 : train 에 넣어서 model() 돌리면 끝."
   ]
  },
  {
   "cell_type": "markdown",
   "id": "b26c9ee1-058c-4998-9aa5-c5f778b0c45d",
   "metadata": {},
   "source": [
    "\n",
    "```python\n",
    "\n",
    "class ConvBlock(nn.Module):\n",
    "    def __init__(self, in_channels, out_channels, kernel_size=3):\n",
    "        super(ConvBlock, self).__init__()\n",
    "        self.conv = nn.Conv2d(in_channels, out_channels, kernel_size, padding=1)\n",
    "        self.bn = nn.BatchNorm2d(out_channels)\n",
    "        self.relu = nn.ReLU()\n",
    "\n",
    "    def forward(self, x):\n",
    "        return self.relu(self.bn(self.conv(x)))\n",
    "\n",
    "class DeconvBlock(nn.Module):\n",
    "    def __init__(self, in_channels, mid_channels, out_channels):\n",
    "        super(DeconvBlock, self).__init__()\n",
    "        self.up = nn.Upsample(scale_factor=2, mode='bilinear', align_corners=True)\n",
    "        self.conv_mid = nn.Conv2d(in_channels, mid_channels, kernel_size=3, padding=1)\n",
    "        self.bn_mid = nn.BatchNorm2d(mid_channels)\n",
    "        self.relu_mid = nn.ReLU()\n",
    "        self.conv_block = ConvBlock(mid_channels + mid_channels, out_channels)\n",
    "\n",
    "    def forward(self, x, skip):\n",
    "        x = self.up(x)\n",
    "        x = self.relu_mid(self.bn_mid(self.conv_mid(x)))\n",
    "        x = torch.cat((x, skip), dim=1)\n",
    "        return self.conv_block(x)\n",
    "class BaseModel(nn.Module):\n",
    "    def __init__(self):\n",
    "        super(BaseModel, self).__init__()\n",
    "        # Contraction path\n",
    "        self.conv1 = ConvBlock(3, 16)\n",
    "        self.pool1 = nn.MaxPool2d(2)\n",
    "        self.conv2 = ConvBlock(16, 32)\n",
    "        self.pool2 = nn.MaxPool2d(2)\n",
    "        self.conv3 = ConvBlock(32, 64)\n",
    "        self.pool3 = nn.MaxPool2d(2)\n",
    "        self.conv4 = ConvBlock(64, 128)\n",
    "        self.pool4 = nn.MaxPool2d(2)\n",
    "        self.conv5 = ConvBlock(128, 256)\n",
    "\n",
    "        # Expansion path\n",
    "        self.up6 = DeconvBlock(256, 128, 128)\n",
    "        self.up7 = DeconvBlock(128, 64, 64)\n",
    "        self.up8 = DeconvBlock(64, 32, 32)\n",
    "        self.up9 = DeconvBlock(32, 16, 16)\n",
    "\n",
    "        self.final_pool = nn.MaxPool2d(2)\n",
    "        self.final_conv = nn.Conv2d(16, 16, kernel_size=28, stride=28)\n",
    "        self.final_bn = nn.BatchNorm2d(16)\n",
    "\n",
    "    def forward(self, x):\n",
    "        # Contraction path\n",
    "        x1 = self.conv1(x)\n",
    "        x = self.pool1(x1)\n",
    "        x2 = self.conv2(x)\n",
    "        x = self.pool2(x2)\n",
    "        x3 = self.conv3(x)\n",
    "        x = self.pool3(x3)\n",
    "        x4 = self.conv4(x)\n",
    "        x = self.pool4(x4)\n",
    "        x5 = self.conv5(x)\n",
    "\n",
    "        # Expansion path\n",
    "        x = self.up6(x5, x4)\n",
    "        x = self.up7(x, x3)\n",
    "        x = self.up8(x, x2)\n",
    "        x = self.up9(x, x1)\n",
    "\n",
    "        x = self.final_pool(x)\n",
    "        out = self.final_bn(self.final_conv(x)) # (B,16,4,4)\n",
    "        return out\n",
    "\n",
    "   \n",
    " ```"
   ]
  },
  {
   "cell_type": "markdown",
   "id": "b5f20a6a-87a4-4f00-b943-a638b0a74638",
   "metadata": {},
   "source": [
    "`-` train 설정\n",
    "```python\n",
    "def train(model, optimizer, train_loader, val_loader, device):\n",
    "    model.to(device)\n",
    "    criterion = nn.CrossEntropyLoss().to(device)\n",
    "    \n",
    "    best_val_acc = 0\n",
    "    best_model = None\n",
    "    for epoch in range(1, CFG['EPOCHS']+1):\n",
    "        model.train()\n",
    "        train_loss = []\n",
    "        for imgs, labels in tqdm(iter(train_loader)):\n",
    "            imgs = imgs.float().to(device)\n",
    "            labels = labels.to(device)\n",
    "            \n",
    "            optimizer.zero_grad()\n",
    "            \n",
    "            output = model(imgs)\n",
    "            loss = criterion(output, labels)\n",
    "            \n",
    "            loss.backward()\n",
    "            optimizer.step()\n",
    "            \n",
    "            train_loss.append(loss.item())\n",
    "                    \n",
    "        _val_loss, _val_acc = validation(model, criterion, val_loader, device)\n",
    "        _train_loss = np.mean(train_loss)\n",
    "        print(f'Epoch [{epoch}], Train Loss : [{_train_loss:.5f}] Val Loss : [{_val_loss:.5f}] Val ACC : [{_val_acc:.5f}]')\n",
    "        \n",
    "        if best_val_acc < _val_acc:\n",
    "            best_val_acc = _val_acc\n",
    "            best_model = model\n",
    " ```"
   ]
  },
  {
   "cell_type": "markdown",
   "id": "166de331-b9e8-415e-add9-af2bb95f606a",
   "metadata": {},
   "source": [
    "위에서 보니 중요한건 train_loader 에 무엇이 들어가느냐인것같습니다."
   ]
  },
  {
   "cell_type": "markdown",
   "id": "b52f2fa4-7618-48d2-8bea-74e363e3a65f",
   "metadata": {},
   "source": [
    "`-` train_loader 를 보자.\n",
    "```python\n",
    "class CustomDataset(Dataset):\n",
    "    def __init__(self, img_path_list, label_list, transform=None):\n",
    "        self.img_path_list = img_path_list\n",
    "        self.label_list = label_list\n",
    "        self.transform = transform\n",
    "        \n",
    "    def __getitem__(self, index):\n",
    "        img_path = self.img_path_list[index]\n",
    "\n",
    "        # PIL 이미지로 불러오기\n",
    "        image = Image.open(img_path).convert(\"RGB\")\n",
    "        if self.transform is not None:\n",
    "            image = self.transform(image)\n",
    "        \n",
    "        if self.label_list is not None:\n",
    "            label = torch.tensor(self.label_list[index], dtype=torch.long) - 1\n",
    "            return image, label\n",
    "        else:\n",
    "            return image\n",
    "        \n",
    "    def __len__(self):\n",
    "        return len(self.img_path_list)\n",
    "train_transform = transforms.Compose([\n",
    "    transforms.ToTensor(),\n",
    "    transforms.Resize((CFG['IMG_SIZE'], CFG['IMG_SIZE'])),\n",
    "    transforms.Normalize(mean=[0.485, 0.456, 0.406], std=[0.229, 0.224, 0.225])\n",
    "])\n",
    "\n",
    "test_transform = transforms.Compose([\n",
    "    transforms.ToTensor(),\n",
    "    transforms.Resize((CFG['IMG_SIZE'], CFG['IMG_SIZE'])),\n",
    "    transforms.Normalize(mean=[0.485, 0.456, 0.406], std=[0.229, 0.224, 0.225])\n",
    "])\n",
    "train_dataset = CustomDataset(train_df['img_path'].values, train_labels, train_transform)\n",
    "train_loader = DataLoader(train_dataset, batch_size = CFG['BATCH_SIZE'], shuffle=True, num_workers=0)\n",
    "\n",
    "val_dataset = CustomDataset(val_df['img_path'].values, val_labels, test_transform)\n",
    "val_loader = DataLoader(val_dataset, batch_size = CFG['BATCH_SIZE'], shuffle=False, num_workers=0)\n",
    "\n",
    "test_dataset = CustomDataset(test_df['img_path'].values, None, test_transform)\n",
    "test_loader = DataLoader(test_dataset, batch_size = CFG['BATCH_SIZE'], shuffle=False, num_workers=0)\n",
    "\n",
    "```"
   ]
  },
  {
   "cell_type": "markdown",
   "id": "94d557c8-9f06-4f87-a51f-b7d5e610d91e",
   "metadata": {},
   "source": [
    "## 대회내에서 train 을 돌리면\n",
    "`1` \n",
    "```\n",
    "model = BaseModel()\n",
    "optimizer = torch.optim.Adam(params = model.parameters(), lr = CFG[\"LEARNING_RATE\"])\n",
    "infer_model = train(model, optimizer, train_loader, val_loader, device)\n",
    "```\n",
    "`1 - (1)` 현재 이곳에서 BaseModel() 은 그대로이고 input 과 output 이 중요한데 infer_model 에서 봐야한다. <br>\n",
    "`1 - (2)` infer_model 은 train 함수이고 `train_loader` 이 무엇인지 볼 필요가 있다. <br>\n",
    "`1 - (3)` train_loader 은 DataLoader 이란 pytorch 의 함수를 받고 train_dataset 이라는 CustomDataset 이 적용되어 만들어져있다. <br>\n",
    "`1 - (4)` CustomDataset 에서는 보통 img,label 설정 및 __len__ , __getitem__ 등의 설정을 하는 곳이라 유의깊게 봐야한다. <br>\n",
    "`1 - (결론)` train_dataset 은 img= 이미지RGB 로 들어가서 tensor 로 나온 tensor 값들이 들어가게된다.\n",
    "`1 - (완결)` 그렇다면 train_loader 까지는 똑같을 것이고 train 함수자체와 BaseModel 이 우리가 새로 찾은 모델과 무엇이 다른지 알아보자."
   ]
  },
  {
   "cell_type": "markdown",
   "id": "89d41695-a59e-4ae1-9f5d-afd858cf4282",
   "metadata": {},
   "source": [
    "# 3. Unet3+ 에서의 Unet 설정"
   ]
  },
  {
   "cell_type": "code",
   "execution_count": null,
   "id": "e206af2e-fd93-440e-a55c-0b7c47cd8650",
   "metadata": {},
   "outputs": [],
   "source": []
  }
 ],
 "metadata": {
  "kernelspec": {
   "display_name": "Python 3 (ipykernel)",
   "language": "python",
   "name": "python3"
  },
  "language_info": {
   "codemirror_mode": {
    "name": "ipython",
    "version": 3
   },
   "file_extension": ".py",
   "mimetype": "text/x-python",
   "name": "python",
   "nbconvert_exporter": "python",
   "pygments_lexer": "ipython3",
   "version": "3.9.13"
  }
 },
 "nbformat": 4,
 "nbformat_minor": 5
}
